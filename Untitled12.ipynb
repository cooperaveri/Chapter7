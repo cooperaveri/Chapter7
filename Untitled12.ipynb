{
 "cells": [
  {
   "cell_type": "markdown",
   "id": "ac7a0159-1d5d-4e74-a60d-0fe64cec050b",
   "metadata": {},
   "source": [
    "# Programming exercises 1,2,6,14"
   ]
  },
  {
   "cell_type": "markdown",
   "id": "5990c83e-11da-4719-bc8c-7b4786badbbf",
   "metadata": {},
   "source": [
    "## 1.  design a program that asks the user to enter a stores sales for each day of the week. the amounts should be stored in a list. use a loop to calculate the total sales for the week and display the result\n"
   ]
  },
  {
   "cell_type": "code",
   "execution_count": 8,
   "id": "39f5b303-5d01-43f5-8e03-e3a1d056eae1",
   "metadata": {},
   "outputs": [
    {
     "ename": "SyntaxError",
     "evalue": "EOL while scanning string literal (2856929931.py, line 5)",
     "output_type": "error",
     "traceback": [
      "\u001b[0;36m  Input \u001b[0;32mIn [8]\u001b[0;36m\u001b[0m\n\u001b[0;31m    days_of_week = ['monday', 'tuesday', 'wednesday', 'thursday', 'friday', 'saturday', sunday']\u001b[0m\n\u001b[0m                                                                                                ^\u001b[0m\n\u001b[0;31mSyntaxError\u001b[0m\u001b[0;31m:\u001b[0m EOL while scanning string literal\n"
     ]
    }
   ],
   "source": [
    "# a empty list to store daily sales\n",
    "daily_sales = []\n",
    "\n",
    "# define a list of days of the week\n",
    "days_of_week = ['monday', 'tuesday', 'wednesday', 'thursday', 'friday', 'saturday', sunday']\n",
    "\n",
    "# use loop to get sales for each day\n",
    "for day in days_of_week:\n",
    "    # ask user for sales input for the current day\n",
    "    sales = float(input(f'Enter sales for {day}: $'))\n",
    "    \n",
    "    daily_sales.append(sales)\n",
    "\n",
    "# total sales for the week using a loop\n",
    "total_sales = 0\n",
    "for sales in daily_sales:\n",
    "    total_sales += sales\n",
    "\n",
    "# total sales for the week\n",
    "print(f'Total sales for the week: ${total_sales:.2f}')"
   ]
  },
  {
   "cell_type": "code",
   "execution_count": 10,
   "id": "91ccaeeb-9208-48b2-b17a-da317d1b1496",
   "metadata": {},
   "outputs": [
    {
     "name": "stdin",
     "output_type": "stream",
     "text": [
      "Enter sales for monday: $ 500\n",
      "Enter sales for tuesday: $ 500\n",
      "Enter sales for wednesday: $ 68\n",
      "Enter sales for thursday: $ 450\n",
      "Enter sales for friday: $ 90\n",
      "Enter sales for saturday: $ 35\n",
      "Enter sales for sunday: $ 67\n"
     ]
    },
    {
     "name": "stdout",
     "output_type": "stream",
     "text": [
      "Total sales for the week: $1710.00\n"
     ]
    }
   ],
   "source": [
    "# a empty list to store daily sales\n",
    "daily_sales = []\n",
    "\n",
    "# define a list of days of the week\n",
    "days_of_week = ['monday', 'tuesday', 'wednesday', 'thursday', 'friday', 'saturday', 'sunday']\n",
    "\n",
    "# use loop to get sales for each day\n",
    "for day in days_of_week:\n",
    "    # ask user for sales input for the current day\n",
    "    sales = float(input(f'Enter sales for {day}: $'))\n",
    "    \n",
    "    daily_sales.append(sales)\n",
    "\n",
    "# total sales for the week using a loop\n",
    "total_sales = 0\n",
    "for sales in daily_sales:\n",
    "    total_sales += sales\n",
    "\n",
    "# total sales for the week\n",
    "print(f'Total sales for the week: ${total_sales:.2f}')"
   ]
  },
  {
   "cell_type": "markdown",
   "id": "3c8c57d8-2436-48b7-8a44-d7c965bd2de3",
   "metadata": {},
   "source": [
    "## 2. design a program that generates a seven digit lottery number. the program should generate seven numbers, each in the range of 0-9, and assign each number to a list element. then write another loop that displays the contents of the list"
   ]
  },
  {
   "cell_type": "code",
   "execution_count": 13,
   "id": "ee624068-a9e5-4095-8298-161b4444e24b",
   "metadata": {},
   "outputs": [
    {
     "name": "stdout",
     "output_type": "stream",
     "text": [
      "Your seven-digit lottery number is:\n",
      "9 7 5 0 2 5 6 "
     ]
    }
   ],
   "source": [
    "import random\n",
    "\n",
    "# initialize an empty list to store the lottery numbers\n",
    "lottery_numbers = []\n",
    "\n",
    "# generate seven random numbers in the range of 0-9 and add them to the list\n",
    "for _ in range(7):\n",
    "    random_number = random.randint(0, 9)\n",
    "    lottery_numbers.append(random_number)\n",
    "\n",
    "# display the generated lottery numbers\n",
    "print('Your seven-digit lottery number is:')\n",
    "for number in lottery_numbers:\n",
    "    print(number, end=' ')"
   ]
  },
  {
   "cell_type": "code",
   "execution_count": 15,
   "id": "b17e6bd3-3dba-4b47-9afb-5f18377ba5b7",
   "metadata": {},
   "outputs": [
    {
     "name": "stdout",
     "output_type": "stream",
     "text": [
      "Your seven-digit lottery number is:\n",
      "2 1 6 9 7 2 3 "
     ]
    }
   ],
   "source": [
    "import random\n",
    "\n",
    "# initialize an empty list to store the lottery numbers\n",
    "lottery_numbers = []\n",
    "\n",
    "# generate seven random numbers in the range of 0-9 and add them to the list\n",
    "for _ in range(7):\n",
    "    random_number = random.randint(0, 9)\n",
    "    lottery_numbers.append(random_number)\n",
    "\n",
    "# display the generated lottery numbers\n",
    "print('Your seven-digit lottery number is:')\n",
    "for number in lottery_numbers:\n",
    "    print(number, end=' ')"
   ]
  },
  {
   "cell_type": "markdown",
   "id": "1a0f8b59-223e-44fb-8ca7-e5474adae02d",
   "metadata": {},
   "source": [
    "## 6. in a program, write a function that accepts two arguments: a list, and a number n. assume that the list contains numbers. the function should display all of the numbers in the list that are greater than the number n"
   ]
  },
  {
   "cell_type": "code",
   "execution_count": 20,
   "id": "70d1019a-9511-4c9c-9d21-4c1b6477f81f",
   "metadata": {},
   "outputs": [
    {
     "name": "stdout",
     "output_type": "stream",
     "text": [
      "Numbers greater than 15 are: [20, 30]\n"
     ]
    }
   ],
   "source": [
    "def numbers_greater_than_n(input_list, n):\n",
    "    \n",
    "    result = []\n",
    "\n",
    "    # iterate through the elements in the input list\n",
    "    for number in input_list:\n",
    "        if number > n:\n",
    "            result.append(number)\n",
    "\n",
    "    # display the numbers greater than n\n",
    "    if len(result) == 0:\n",
    "        print('No numbers in the list are greater than', n)\n",
    "    else:\n",
    "        print('Numbers greater than', n, 'are:', result)\n",
    "\n",
    "my_list = [10, 5, 20, 8, 15, 30]\n",
    "value_to_compare = 15\n",
    "\n",
    "numbers_greater_than_n(my_list, value_to_compare)\n"
   ]
  },
  {
   "cell_type": "markdown",
   "id": "c7c7c839-7cc6-4171-adf2-4e0a59672267",
   "metadata": {},
   "source": [
    "## 14. create a textfile that contains your expenses for last month in the following categories: rent, gas, food, clothing, car payment, misc. write a python program that reads the data from the file and uses matplotlib to plot a pie chart showing how you spend money your money"
   ]
  },
  {
   "cell_type": "code",
   "execution_count": 27,
   "id": "4cc02e75-0138-4f16-8d81-99fd26459587",
   "metadata": {},
   "outputs": [
    {
     "data": {
      "image/png": "[encoded data removed]",
      "text/plain": [
       "<Figure size 432x288 with 1 Axes>"
      ]
     },
     "metadata": {},
     "output_type": "display_data"
    }
   ],
   "source": [
    "import matplotlib.pyplot as plt\n",
    "\n",
    "categories = ['Rent', 'Gas', 'Food', 'Clothing', 'Car Payment', 'Misc']\n",
    "expenses = [500, 100, 300, 100, 350, 50]\n",
    "\n",
    "plt.pie(expenses, labels=categories, autopct='%1.1f%%', startangle=140)\n",
    "plt.title('Expense Breakdown')\n",
    "plt.axis('equal')\n",
    "\n",
    "plt.show()"
   ]
  },
  {
   "cell_type": "code",
   "execution_count": null,
   "id": "2e0f9ac0-899b-4b06-a2a7-4c9cb76abd26",
   "metadata": {},
   "outputs": [],
   "source": []
  }
 ],
 "metadata": {
  "kernelspec": {
   "display_name": "anaconda-2022.05-py39",
   "language": "python",
   "name": "conda-env-anaconda-2022.05-py39-py"
  },
  "language_info": {
   "codemirror_mode": {
    "name": "ipython",
    "version": 3
   },
   "file_extension": ".py",
   "mimetype": "text/x-python",
   "name": "python",
   "nbconvert_exporter": "python",
   "pygments_lexer": "ipython3",
   "version": "3.9.12"
  }
 },
 "nbformat": 4,
 "nbformat_minor": 5
}
